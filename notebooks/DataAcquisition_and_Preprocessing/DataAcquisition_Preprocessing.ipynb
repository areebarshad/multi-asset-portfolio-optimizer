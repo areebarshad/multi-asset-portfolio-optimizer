{
  "nbformat": 4,
  "nbformat_minor": 0,
  "metadata": {
    "colab": {
      "provenance": [],
      "authorship_tag": "ABX9TyNxrQejVDHy5WOAnASXOSrc",
      "include_colab_link": true
    },
    "kernelspec": {
      "name": "python3",
      "display_name": "Python 3"
    },
    "language_info": {
      "name": "python"
    }
  },
  "cells": [
    {
      "cell_type": "markdown",
      "metadata": {
        "id": "view-in-github",
        "colab_type": "text"
      },
      "source": [
        "<a href=\"https://colab.research.google.com/github/areebarshad/multi-asset-portfolio-optimizer/blob/main/notebooks/DataAcquisition_and_Preprocessing/DataAcquisition_Preprocessing.ipynb\" target=\"_parent\"><img src=\"https://colab.research.google.com/assets/colab-badge.svg\" alt=\"Open In Colab\"/></a>"
      ]
    },
    {
      "cell_type": "code",
      "execution_count": null,
      "metadata": {
        "id": "wob4ZT9jMpPW"
      },
      "outputs": [],
      "source": [
        "import yfinance as yf\n",
        "import pandas as pd\n",
        "import numpy as np\n",
        "import seaborn as sns\n",
        "import matplotlib.pyplot as plt\n",
        "\n",
        "#define multi-asset tickers\n",
        "tickers = ['VEA', 'VWO', 'EWJ', 'TLT', 'LQD', 'GLD', 'VNQ', 'DBC']\n",
        "\n",
        "#download the closing prices and save to csv\n",
        "data = yf.download(tickers, start = \"2015-01-01\", end = \"2025-12-31\")['Close']\n",
        "data.to_csv('/content/multiasset_closing_prices.csv')\n",
        "\n",
        "#output a fitting message\n",
        "print(\"Data collected and shaped: \", data.shape)\n",
        "print(data.head())\n",
        "\n",
        "#check for missing values\n",
        "print(data.isnull().sum())\n",
        "\n",
        "#forward fill then backfill if NaNs remain\n",
        "data = data.fillna(method = 'ffill').fillna(method = 'bfill')\n",
        "\n",
        "#confirm no missing data remains\n",
        "print(data.isnull().sum().sum())\n",
        "\n",
        "#calculate daily returns and save to csv\n",
        "daily_returns = np.log(data / data.shift(1)).dropna()\n",
        "daily_returns.to_csv('/content/multiasset_daily_returns.csv')\n",
        "\n",
        "#calculate monthly returns\n",
        "monthly_prices = data.resample('M').last()\n",
        "monthly_returns = np.log(monthly_prices / monthly_prices.shift(1)).dropna()\n",
        "\n",
        "#plot the closing prices\n",
        "plt.figure(figsize = (12, 6))\n",
        "for ticker in tickers:\n",
        "  plt.plot(data[ticker], label = ticker)\n",
        "plt.legend()\n",
        "plt.title(\"Closing Prices\")\n",
        "plt.xlabel(\"Date\")\n",
        "plt.ylabel(\"Price\")\n",
        "plt.show()\n",
        "\n",
        "#plot daily return distributions\n",
        "daily_returns.plot(kind = 'hist', bins = 100, alpha = 0.7, figsize = (12, 6))\n",
        "plt.title(\"Distribution of Daily Returns\")\n",
        "plt.xlabel(\"Daily Log Return\")\n",
        "plt.show()\n",
        "\n",
        "#plot the correlation heatmap\n",
        "plt.figure(figsize = (12, 6))\n",
        "sns.heatmap(daily_returns.corr(), annot = True, cmap = 'coolwarm')\n",
        "plt.title(\"Correlation Heatmap of Daily Returns\")\n",
        "plt.show()\n",
        "\n",
        "#calculate the mean and standard deviation of daily returns\n",
        "stats = pd.DataFrame({'Mean of Daily Returns': daily_returns.mean(),\n",
        "                      'Standard Deviation of Daily Returns': daily_returns.std()})\n",
        "\n",
        "#annualize mean and std (assumption: 252 trading days)\n",
        "stats['Annualized Return'] = stats['Mean of Daily Returns'] * 252\n",
        "stats['Annualized Volatility'] = stats[\"Standard Deviation of Daily Returns\"] * np.sqrt(252)\n",
        "\n",
        "#display stats and save to csv\n",
        "print(stats)\n",
        "stats.to_csv('/content/multiasset_stats.csv')"
      ]
    }
  ]
}