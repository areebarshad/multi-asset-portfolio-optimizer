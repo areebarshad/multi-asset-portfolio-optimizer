{
  "nbformat": 4,
  "nbformat_minor": 0,
  "metadata": {
    "colab": {
      "provenance": [],
      "authorship_tag": "ABX9TyPmNOy+QCL2zhfpDgrigFCy",
      "include_colab_link": true
    },
    "kernelspec": {
      "name": "python3",
      "display_name": "Python 3"
    },
    "language_info": {
      "name": "python"
    }
  },
  "cells": [
    {
      "cell_type": "markdown",
      "metadata": {
        "id": "view-in-github",
        "colab_type": "text"
      },
      "source": [
        "<a href=\"https://colab.research.google.com/github/areebarshad/multi-asset-portfolio-optimizer/blob/main/notebooks/Extensions_Dashboard/Extensions_Dashboard.ipynb\" target=\"_parent\"><img src=\"https://colab.research.google.com/assets/colab-badge.svg\" alt=\"Open In Colab\"/></a>"
      ]
    },
    {
      "cell_type": "code",
      "execution_count": null,
      "metadata": {
        "id": "G-zMJFHsCLSS"
      },
      "outputs": [],
      "source": [
        "import cvxpy as cp\n",
        "import pandas as pd\n",
        "import numpy as np\n",
        "\n",
        "#load the daily returns\n",
        "daily_returns = pd.read_csv('/content/multiasset_daily_returns.csv')\n",
        "\n",
        "#print robust optimal weights\n",
        "print(\"Robust Optimal Weights: \")\n",
        "for i in range(n):\n",
        "  print(f\"{daily_returns.columns[i]}: {w.value[i]:.4f}\")\n",
        "\n",
        "#assume previous portfolio weights\n",
        "prev_weights = np.array([0.10, 0.12, 0.08, 0.15, 0.10, 0.20, 0.15, 0.10])\n",
        "\n",
        "#define turnover limit\n",
        "turnover_limit = 0.10 #set at 10%\n",
        "\n",
        "#re-run optimization with turnover constraint\n",
        "w = cp.Variable(n)\n",
        "\n",
        "objective = cp.Minimize(cp.quad_form(w, sigma))\n",
        "constraints = [cp.sum(w) == 1, w >= 0, w <= 0.20,\n",
        "               cp.norm(w - prev_weights, 1) <= turnover_limit, mu @ w >= ret_target]\n",
        "\n",
        "problem = cp.Problem(objective, constraints)\n",
        "problem.solve()\n",
        "\n",
        "#print optimal weights with turnover constraint\n",
        "print(\"Optimal Weights with Turnover Constraint: \")\n",
        "for i in range(n):\n",
        "  print(f\"{daily_returns.columns[i]}: {w.value[i]:.4f}\")"
      ]
    }
  ]
}